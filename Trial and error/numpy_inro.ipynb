{
 "cells": [
  {
   "cell_type": "code",
   "execution_count": 197,
   "id": "e4007be8-6044-4a42-9347-616abfbafabd",
   "metadata": {},
   "outputs": [],
   "source": [
    "import numpy as np\n",
    "import pandas as pd\n",
    "import matplotlib.pyplot as plt"
   ]
  },
  {
   "cell_type": "markdown",
   "id": "d443fdf4-c016-439a-9e17-27528be4fd1f",
   "metadata": {},
   "source": [
    "## 1.Data types & Attributes"
   ]
  },
  {
   "cell_type": "code",
   "execution_count": 2,
   "id": "63fa0477-ef6f-4327-97e1-a903de59135c",
   "metadata": {},
   "outputs": [
    {
     "data": {
      "text/plain": [
       "array([1, 2, 3])"
      ]
     },
     "execution_count": 2,
     "metadata": {},
     "output_type": "execute_result"
    }
   ],
   "source": [
    "a1 = np.array([1, 2, 3])\n",
    "a1"
   ]
  },
  {
   "cell_type": "code",
   "execution_count": 3,
   "id": "4c67d700-18da-460f-aa63-d423c6862775",
   "metadata": {},
   "outputs": [
    {
     "data": {
      "text/plain": [
       "numpy.ndarray"
      ]
     },
     "execution_count": 3,
     "metadata": {},
     "output_type": "execute_result"
    }
   ],
   "source": [
    "type(a1)"
   ]
  },
  {
   "cell_type": "code",
   "execution_count": 4,
   "id": "44fa04b6-de21-40bd-93ef-dd89c47aaac8",
   "metadata": {},
   "outputs": [
    {
     "data": {
      "text/plain": [
       "array([1, 3, 5, 7, 9])"
      ]
     },
     "execution_count": 4,
     "metadata": {},
     "output_type": "execute_result"
    }
   ],
   "source": [
    "a2 = np.arange(1,10,2)\n",
    "a2"
   ]
  },
  {
   "cell_type": "code",
   "execution_count": 5,
   "id": "fc2decae-7712-4e33-8436-5560d073f236",
   "metadata": {},
   "outputs": [
    {
     "data": {
      "text/plain": [
       "array([[9, 6, 1, 4],\n",
       "       [6, 5, 4, 5],\n",
       "       [2, 2, 4, 4]])"
      ]
     },
     "execution_count": 5,
     "metadata": {},
     "output_type": "execute_result"
    }
   ],
   "source": [
    "a3 = np.random.randint(0, 10, size = (3,4))\n",
    "a3"
   ]
  },
  {
   "cell_type": "code",
   "execution_count": 6,
   "id": "1204937c-d856-4cf1-8a6a-14a7cd2d2b5d",
   "metadata": {},
   "outputs": [
    {
     "data": {
      "text/plain": [
       "array([[0.4359949 , 0.02592623],\n",
       "       [0.54966248, 0.43532239],\n",
       "       [0.4203678 , 0.33033482]])"
      ]
     },
     "execution_count": 6,
     "metadata": {},
     "output_type": "execute_result"
    }
   ],
   "source": [
    "np.random.seed(2)\n",
    "a4 = np.random.random(size=(3,2))\n",
    "a4"
   ]
  },
  {
   "cell_type": "code",
   "execution_count": 7,
   "id": "c027a998-0c19-46bc-bb64-d89ecfbcca7e",
   "metadata": {},
   "outputs": [
    {
     "data": {
      "text/plain": [
       "array([[0.4359949 , 0.02592623],\n",
       "       [0.54966248, 0.43532239],\n",
       "       [0.4203678 , 0.33033482]])"
      ]
     },
     "execution_count": 7,
     "metadata": {},
     "output_type": "execute_result"
    }
   ],
   "source": [
    "a4"
   ]
  },
  {
   "cell_type": "markdown",
   "id": "28773e9b-7957-4871-8226-abc0b6850871",
   "metadata": {},
   "source": [
    "## 3. viewing arrays and matrices"
   ]
  },
  {
   "cell_type": "code",
   "execution_count": 24,
   "id": "6a98fb4c-bfa5-4456-91fa-8d09d766fc64",
   "metadata": {},
   "outputs": [
    {
     "data": {
      "text/plain": [
       "array([1, 2, 3])"
      ]
     },
     "execution_count": 24,
     "metadata": {},
     "output_type": "execute_result"
    }
   ],
   "source": [
    "a1"
   ]
  },
  {
   "cell_type": "code",
   "execution_count": 15,
   "id": "74f7e399-e339-40f2-9fa7-db65cb84e61f",
   "metadata": {},
   "outputs": [
    {
     "data": {
      "text/plain": [
       "array([[1. , 2. , 3.3],\n",
       "       [4. , 5. , 6.5]])"
      ]
     },
     "execution_count": 15,
     "metadata": {},
     "output_type": "execute_result"
    }
   ],
   "source": [
    "ar2 = np.array([[1,2,3.3],[4,5,6.5]])\n",
    "ar2"
   ]
  },
  {
   "cell_type": "code",
   "execution_count": 16,
   "id": "79d5924e-10cb-46f6-b3cf-a735feddd4f8",
   "metadata": {},
   "outputs": [
    {
     "data": {
      "text/plain": [
       "array([[[8, 8, 6],\n",
       "        [2, 8, 7],\n",
       "        [2, 1, 5]],\n",
       "\n",
       "       [[4, 4, 5],\n",
       "        [7, 3, 6],\n",
       "        [4, 3, 7]]])"
      ]
     },
     "execution_count": 16,
     "metadata": {},
     "output_type": "execute_result"
    }
   ],
   "source": [
    "np.random.seed(2)\n",
    "ar3 = np.random.randint(0,10, size=(2,3,3))\n",
    "ar3"
   ]
  },
  {
   "cell_type": "code",
   "execution_count": 34,
   "id": "5bcb6b07-1c1e-4b78-9d83-1f498e3e1fb3",
   "metadata": {},
   "outputs": [
    {
     "data": {
      "text/plain": [
       "1"
      ]
     },
     "execution_count": 34,
     "metadata": {},
     "output_type": "execute_result"
    }
   ],
   "source": [
    "a1[0]"
   ]
  },
  {
   "cell_type": "code",
   "execution_count": 35,
   "id": "d38f6d4f-5625-412e-8b58-51bb57b00cf4",
   "metadata": {},
   "outputs": [
    {
     "data": {
      "text/plain": [
       "(2, 3, 3)"
      ]
     },
     "execution_count": 35,
     "metadata": {},
     "output_type": "execute_result"
    }
   ],
   "source": [
    "ar3.shape"
   ]
  },
  {
   "cell_type": "code",
   "execution_count": 36,
   "id": "f27d6c66-5c94-4975-b7e1-9dd49a81310a",
   "metadata": {},
   "outputs": [
    {
     "data": {
      "text/plain": [
       "array([[[8, 8, 6],\n",
       "        [2, 8, 7],\n",
       "        [2, 1, 5]],\n",
       "\n",
       "       [[4, 4, 5],\n",
       "        [7, 3, 6],\n",
       "        [4, 3, 7]]])"
      ]
     },
     "execution_count": 36,
     "metadata": {},
     "output_type": "execute_result"
    }
   ],
   "source": [
    "ar3"
   ]
  },
  {
   "cell_type": "code",
   "execution_count": 44,
   "id": "7c035d0f-97cc-4f11-a440-9aafb6a3ce59",
   "metadata": {},
   "outputs": [
    {
     "data": {
      "text/plain": [
       "array([[[8],\n",
       "        [2],\n",
       "        [2]],\n",
       "\n",
       "       [[4],\n",
       "        [7],\n",
       "        [4]]])"
      ]
     },
     "execution_count": 44,
     "metadata": {},
     "output_type": "execute_result"
    }
   ],
   "source": [
    "ar3[:,:,:1]"
   ]
  },
  {
   "cell_type": "markdown",
   "id": "a7491493-bcce-453a-931a-2bb37169f86b",
   "metadata": {},
   "source": [
    "## 4. Manipulating & and comparing arrays"
   ]
  },
  {
   "cell_type": "code",
   "execution_count": 45,
   "id": "c62d74b4-855e-4cac-ac47-cda4911151dc",
   "metadata": {},
   "outputs": [
    {
     "data": {
      "text/plain": [
       "array([1, 2, 3])"
      ]
     },
     "execution_count": 45,
     "metadata": {},
     "output_type": "execute_result"
    }
   ],
   "source": [
    "a1"
   ]
  },
  {
   "cell_type": "code",
   "execution_count": 47,
   "id": "9eca2cdc-bde8-431b-b1bf-e98664bae1c5",
   "metadata": {},
   "outputs": [
    {
     "data": {
      "text/plain": [
       "array([[1. , 2. , 3.3],\n",
       "       [4. , 5. , 6.5]])"
      ]
     },
     "execution_count": 47,
     "metadata": {},
     "output_type": "execute_result"
    }
   ],
   "source": [
    "ar2"
   ]
  },
  {
   "cell_type": "code",
   "execution_count": 48,
   "id": "f3277958-fa2f-4a7b-a8a4-dd8d6c1ab2d9",
   "metadata": {},
   "outputs": [
    {
     "data": {
      "text/plain": [
       "array([[ 1. ,  4. ,  9.9],\n",
       "       [ 4. , 10. , 19.5]])"
      ]
     },
     "execution_count": 48,
     "metadata": {},
     "output_type": "execute_result"
    }
   ],
   "source": [
    "a1 * ar2"
   ]
  },
  {
   "cell_type": "code",
   "execution_count": 49,
   "id": "588f159b-37d3-4761-ac9e-bd4bc446f486",
   "metadata": {},
   "outputs": [
    {
     "data": {
      "text/plain": [
       "array([[ 0. ,  0. , -0.3],\n",
       "       [-3. , -3. , -3.5]])"
      ]
     },
     "execution_count": 49,
     "metadata": {},
     "output_type": "execute_result"
    }
   ],
   "source": [
    "a1 - ar2"
   ]
  },
  {
   "cell_type": "code",
   "execution_count": 50,
   "id": "c9fa554b-2112-43c2-a725-fc478418f63e",
   "metadata": {},
   "outputs": [
    {
     "data": {
      "text/plain": [
       "array([[ 1.  ,  4.  , 10.89],\n",
       "       [16.  , 25.  , 42.25]])"
      ]
     },
     "execution_count": 50,
     "metadata": {},
     "output_type": "execute_result"
    }
   ],
   "source": [
    "ar2**2"
   ]
  },
  {
   "cell_type": "code",
   "execution_count": 51,
   "id": "d835bb9c-3f36-49c6-85b5-134cfca7acdb",
   "metadata": {},
   "outputs": [
    {
     "data": {
      "text/plain": [
       "array([[1. , 2. , 3.3],\n",
       "       [4. , 5. , 6.5]])"
      ]
     },
     "execution_count": 51,
     "metadata": {},
     "output_type": "execute_result"
    }
   ],
   "source": [
    "ar2"
   ]
  },
  {
   "cell_type": "code",
   "execution_count": 52,
   "id": "f64aad7c-0941-4f14-ae60-b579864476a6",
   "metadata": {},
   "outputs": [
    {
     "data": {
      "text/plain": [
       "array([[[8, 8, 6],\n",
       "        [2, 8, 7],\n",
       "        [2, 1, 5]],\n",
       "\n",
       "       [[4, 4, 5],\n",
       "        [7, 3, 6],\n",
       "        [4, 3, 7]]])"
      ]
     },
     "execution_count": 52,
     "metadata": {},
     "output_type": "execute_result"
    }
   ],
   "source": [
    "ar3"
   ]
  },
  {
   "cell_type": "code",
   "execution_count": 53,
   "id": "505f5e2d-ce86-4d75-90fe-0484dd7f25a9",
   "metadata": {},
   "outputs": [
    {
     "ename": "ValueError",
     "evalue": "operands could not be broadcast together with shapes (2,3) (2,3,3) ",
     "output_type": "error",
     "traceback": [
      "\u001b[0;31m---------------------------------------------------------------------------\u001b[0m",
      "\u001b[0;31mValueError\u001b[0m                                Traceback (most recent call last)",
      "Cell \u001b[0;32mIn[53], line 1\u001b[0m\n\u001b[0;32m----> 1\u001b[0m ar2\u001b[38;5;241m*\u001b[39mar3\n",
      "\u001b[0;31mValueError\u001b[0m: operands could not be broadcast together with shapes (2,3) (2,3,3) "
     ]
    }
   ],
   "source": [
    "ar2*ar3"
   ]
  },
  {
   "cell_type": "code",
   "execution_count": 54,
   "id": "0a0e6570-b9e8-4bba-8d1b-171e446b3afe",
   "metadata": {},
   "outputs": [
    {
     "data": {
      "text/plain": [
       "(2, 3)"
      ]
     },
     "execution_count": 54,
     "metadata": {},
     "output_type": "execute_result"
    }
   ],
   "source": [
    "ar2.shape"
   ]
  },
  {
   "cell_type": "code",
   "execution_count": 55,
   "id": "5bf472a2-d55b-4737-a9fa-ea930476e98f",
   "metadata": {},
   "outputs": [
    {
     "data": {
      "text/plain": [
       "array([[1. , 2. ],\n",
       "       [3.3, 4. ],\n",
       "       [5. , 6.5]])"
      ]
     },
     "execution_count": 55,
     "metadata": {},
     "output_type": "execute_result"
    }
   ],
   "source": [
    "ar2.reshape(3,2)"
   ]
  },
  {
   "cell_type": "code",
   "execution_count": 63,
   "id": "cea59419-544e-430e-969a-9e6bc4cc3d8d",
   "metadata": {},
   "outputs": [
    {
     "data": {
      "text/plain": [
       "array([[1. , 2. , 3.3],\n",
       "       [4. , 5. , 6.5]])"
      ]
     },
     "execution_count": 63,
     "metadata": {},
     "output_type": "execute_result"
    }
   ],
   "source": [
    "ar2"
   ]
  },
  {
   "cell_type": "code",
   "execution_count": 65,
   "id": "f0fc91e8-aca2-47aa-9b85-bb0512100c0e",
   "metadata": {},
   "outputs": [
    {
     "data": {
      "text/plain": [
       "array([[[8, 8, 6],\n",
       "        [2, 8, 7],\n",
       "        [2, 1, 5]],\n",
       "\n",
       "       [[4, 4, 5],\n",
       "        [7, 3, 6],\n",
       "        [4, 3, 7]]])"
      ]
     },
     "execution_count": 65,
     "metadata": {},
     "output_type": "execute_result"
    }
   ],
   "source": [
    "ar3"
   ]
  },
  {
   "cell_type": "code",
   "execution_count": 17,
   "id": "83d6f16a-94fa-408c-a95a-659320c0b391",
   "metadata": {},
   "outputs": [
    {
     "ename": "ValueError",
     "evalue": "operands could not be broadcast together with shapes (2,3) (2,3,3) ",
     "output_type": "error",
     "traceback": [
      "\u001b[0;31m---------------------------------------------------------------------------\u001b[0m",
      "\u001b[0;31mValueError\u001b[0m                                Traceback (most recent call last)",
      "Cell \u001b[0;32mIn[17], line 1\u001b[0m\n\u001b[0;32m----> 1\u001b[0m \u001b[43mar2\u001b[49m\u001b[38;5;241;43m*\u001b[39;49m\u001b[43mar3\u001b[49m\n",
      "\u001b[0;31mValueError\u001b[0m: operands could not be broadcast together with shapes (2,3) (2,3,3) "
     ]
    }
   ],
   "source": [
    "ar2*ar3"
   ]
  },
  {
   "cell_type": "code",
   "execution_count": 81,
   "id": "31318338-3215-4d93-b709-8790b26cc445",
   "metadata": {},
   "outputs": [
    {
     "data": {
      "text/plain": [
       "array([[[ 8. ,  8. ,  6. ],\n",
       "        [ 4. , 16. , 14. ],\n",
       "        [ 6.6,  3.3, 16.5]],\n",
       "\n",
       "       [[16. , 16. , 20. ],\n",
       "        [35. , 15. , 30. ],\n",
       "        [26. , 19.5, 45.5]]])"
      ]
     },
     "execution_count": 81,
     "metadata": {},
     "output_type": "execute_result"
    }
   ],
   "source": [
    "ar2[:,:,np.newaxis]*ar3"
   ]
  },
  {
   "cell_type": "code",
   "execution_count": 82,
   "id": "1b3d7eb5-1973-45cd-80f1-e9e9e0949657",
   "metadata": {},
   "outputs": [
    {
     "data": {
      "text/plain": [
       "array([[[18.6, 27.3, 36.5],\n",
       "        [55. , 78.5, 91.5]],\n",
       "\n",
       "       [[31.2, 19.9, 40.1],\n",
       "        [77. , 50.5, 95.5]]])"
      ]
     },
     "execution_count": 82,
     "metadata": {},
     "output_type": "execute_result"
    }
   ],
   "source": [
    "np.matmul(ar2, ar3)"
   ]
  },
  {
   "cell_type": "code",
   "execution_count": 20,
   "id": "0f61f014-c392-463e-ba7e-dea4e4fcf139",
   "metadata": {},
   "outputs": [
    {
     "data": {
      "text/plain": [
       "array([[1., 1., 1.],\n",
       "       [1., 1., 1.]])"
      ]
     },
     "execution_count": 20,
     "metadata": {},
     "output_type": "execute_result"
    }
   ],
   "source": [
    "ones = np.ones(shape=(2,3))\n",
    "ones"
   ]
  },
  {
   "cell_type": "code",
   "execution_count": 87,
   "id": "559a2777-c475-4379-8232-1379d198c9fe",
   "metadata": {},
   "outputs": [
    {
     "data": {
      "text/plain": [
       "array([[1., 0., 0.],\n",
       "       [0., 0., 0.]])"
      ]
     },
     "execution_count": 87,
     "metadata": {},
     "output_type": "execute_result"
    }
   ],
   "source": [
    "ones // ar2"
   ]
  },
  {
   "cell_type": "code",
   "execution_count": 18,
   "id": "a2a45c25-2cdc-4dc0-ae85-f07dfc328c3d",
   "metadata": {},
   "outputs": [
    {
     "data": {
      "text/plain": [
       "array([[1. , 2. , 3.3],\n",
       "       [4. , 5. , 6.5]])"
      ]
     },
     "execution_count": 18,
     "metadata": {},
     "output_type": "execute_result"
    }
   ],
   "source": [
    "ar2"
   ]
  },
  {
   "cell_type": "code",
   "execution_count": 21,
   "id": "072ee43d-2199-45c3-a7cf-70ca5562c4e5",
   "metadata": {},
   "outputs": [
    {
     "data": {
      "text/plain": [
       "array([[1.        , 0.5       , 0.3030303 ],\n",
       "       [0.25      , 0.2       , 0.15384615]])"
      ]
     },
     "execution_count": 21,
     "metadata": {},
     "output_type": "execute_result"
    }
   ],
   "source": [
    "ones / ar2"
   ]
  },
  {
   "cell_type": "code",
   "execution_count": 22,
   "id": "368a8972-f33d-4fa8-94a4-cab843915245",
   "metadata": {},
   "outputs": [
    {
     "data": {
      "text/plain": [
       "array([[ 1.  ,  4.  , 10.89],\n",
       "       [16.  , 25.  , 42.25]])"
      ]
     },
     "execution_count": 22,
     "metadata": {},
     "output_type": "execute_result"
    }
   ],
   "source": [
    "np.square(ar2)"
   ]
  },
  {
   "cell_type": "code",
   "execution_count": 91,
   "id": "5ea8072f-a24c-4a0e-8b21-a629aeba2c7e",
   "metadata": {},
   "outputs": [
    {
     "data": {
      "text/plain": [
       "array([[2. , 3. , 4.3],\n",
       "       [5. , 6. , 7.5]])"
      ]
     },
     "execution_count": 91,
     "metadata": {},
     "output_type": "execute_result"
    }
   ],
   "source": [
    "ar2 + ones"
   ]
  },
  {
   "cell_type": "code",
   "execution_count": 23,
   "id": "a00763ed-aba7-4c2a-ac6d-733f08ba7a20",
   "metadata": {},
   "outputs": [
    {
     "data": {
      "text/plain": [
       "array([[[1. , 1. , 1. ],\n",
       "        [0. , 2. , 2. ],\n",
       "        [1.3, 0.3, 3.3]],\n",
       "\n",
       "       [[0. , 0. , 4. ],\n",
       "        [5. , 2. , 5. ],\n",
       "        [2.5, 0.5, 6.5]]])"
      ]
     },
     "execution_count": 23,
     "metadata": {},
     "output_type": "execute_result"
    }
   ],
   "source": [
    "ar2[:,:,np.newaxis]%ar3"
   ]
  },
  {
   "cell_type": "code",
   "execution_count": 93,
   "id": "3a9a9b91-9cf5-4e6e-ac6e-7feba6989256",
   "metadata": {},
   "outputs": [
    {
     "data": {
      "text/plain": [
       "array([[[8, 8, 6],\n",
       "        [2, 8, 7],\n",
       "        [2, 1, 5]],\n",
       "\n",
       "       [[4, 4, 5],\n",
       "        [7, 3, 6],\n",
       "        [4, 3, 7]]])"
      ]
     },
     "execution_count": 93,
     "metadata": {},
     "output_type": "execute_result"
    }
   ],
   "source": [
    "ar3"
   ]
  },
  {
   "cell_type": "code",
   "execution_count": 95,
   "id": "99c45b3c-5f51-4ef8-bae0-2c6374a39d19",
   "metadata": {},
   "outputs": [
    {
     "data": {
      "text/plain": [
       "array([[[0.        ],\n",
       "        [0.69314718],\n",
       "        [1.19392247]],\n",
       "\n",
       "       [[1.38629436],\n",
       "        [1.60943791],\n",
       "        [1.87180218]]])"
      ]
     },
     "execution_count": 95,
     "metadata": {},
     "output_type": "execute_result"
    }
   ],
   "source": [
    "np.log(ar2[:,:,np.newaxis])"
   ]
  },
  {
   "cell_type": "markdown",
   "id": "c2f2274e-29de-4ed4-bff8-7b92a9e031d6",
   "metadata": {},
   "source": [
    "## Aggregation"
   ]
  },
  {
   "cell_type": "markdown",
   "id": "8e376c44-6cbc-4c47-9e3f-d31b1ceacbf5",
   "metadata": {},
   "source": [
    "aggrigation = performing the same operation on number of thigs"
   ]
  },
  {
   "cell_type": "code",
   "execution_count": null,
   "id": "340bf454-e539-495f-a44b-da6dd6444561",
   "metadata": {},
   "outputs": [],
   "source": []
  },
  {
   "cell_type": "code",
   "execution_count": 8,
   "id": "87025808-cdf9-4ba1-b09b-13606d3b7896",
   "metadata": {},
   "outputs": [
    {
     "data": {
      "text/plain": [
       "array([1, 2, 3])"
      ]
     },
     "execution_count": 8,
     "metadata": {},
     "output_type": "execute_result"
    }
   ],
   "source": [
    "a1"
   ]
  },
  {
   "cell_type": "code",
   "execution_count": 9,
   "id": "22737307-4246-4356-859d-c127ce8fe170",
   "metadata": {},
   "outputs": [
    {
     "data": {
      "text/plain": [
       "np.int64(6)"
      ]
     },
     "execution_count": 9,
     "metadata": {},
     "output_type": "execute_result"
    }
   ],
   "source": [
    "sum(a1)"
   ]
  },
  {
   "cell_type": "code",
   "execution_count": 10,
   "id": "751815dc-626f-4c67-885f-5544ece22f16",
   "metadata": {},
   "outputs": [],
   "source": [
    "massive_array = np.random.random(10000)"
   ]
  },
  {
   "cell_type": "code",
   "execution_count": 11,
   "id": "df8029c1-2cfa-41b8-87e0-3621748d2129",
   "metadata": {},
   "outputs": [
    {
     "data": {
      "text/plain": [
       "array([0.20464863, 0.61927097, 0.29965467, 0.26682728, 0.62113383,\n",
       "       0.52914209, 0.13457995, 0.51357812, 0.18443987, 0.78533515])"
      ]
     },
     "execution_count": 11,
     "metadata": {},
     "output_type": "execute_result"
    }
   ],
   "source": [
    "massive_array[:10]"
   ]
  },
  {
   "cell_type": "code",
   "execution_count": 12,
   "id": "ea5ce149-7697-437b-8047-249a288a0332",
   "metadata": {},
   "outputs": [
    {
     "name": "stdout",
     "output_type": "stream",
     "text": [
      "976 μs ± 82.6 μs per loop (mean ± std. dev. of 7 runs, 1,000 loops each)\n",
      "6.63 μs ± 392 ns per loop (mean ± std. dev. of 7 runs, 100,000 loops each)\n"
     ]
    }
   ],
   "source": [
    "%timeit sum(massive_array)\n",
    "%timeit np.sum(massive_array)"
   ]
  },
  {
   "cell_type": "code",
   "execution_count": 24,
   "id": "2e5e9344-405c-4bc3-a770-7bb023e3382d",
   "metadata": {},
   "outputs": [
    {
     "data": {
      "text/plain": [
       "array([[1. , 2. , 3.3],\n",
       "       [4. , 5. , 6.5]])"
      ]
     },
     "execution_count": 24,
     "metadata": {},
     "output_type": "execute_result"
    }
   ],
   "source": [
    " ar2"
   ]
  },
  {
   "cell_type": "code",
   "execution_count": 25,
   "id": "b16bb385-89c1-433c-b195-2ea0982ed050",
   "metadata": {},
   "outputs": [
    {
     "data": {
      "text/plain": [
       "np.float64(3.6333333333333333)"
      ]
     },
     "execution_count": 25,
     "metadata": {},
     "output_type": "execute_result"
    }
   ],
   "source": [
    "np.mean(ar2)"
   ]
  },
  {
   "cell_type": "code",
   "execution_count": 26,
   "id": "6049f63f-3926-476b-97f1-cfa3110f1475",
   "metadata": {},
   "outputs": [
    {
     "data": {
      "text/plain": [
       "np.float64(1.8226964152656422)"
      ]
     },
     "execution_count": 26,
     "metadata": {},
     "output_type": "execute_result"
    }
   ],
   "source": [
    "np.std(ar2)"
   ]
  },
  {
   "cell_type": "code",
   "execution_count": 27,
   "id": "33c35a80-c916-40a3-972d-b296e78e63ba",
   "metadata": {},
   "outputs": [
    {
     "data": {
      "text/plain": [
       "np.float64(3.3222222222222224)"
      ]
     },
     "execution_count": 27,
     "metadata": {},
     "output_type": "execute_result"
    }
   ],
   "source": [
    "np.var(ar2)"
   ]
  },
  {
   "cell_type": "code",
   "execution_count": 28,
   "id": "beb85c9b-4310-4b20-9715-a4f0111120ef",
   "metadata": {},
   "outputs": [],
   "source": [
    "# Demo of std and var\n",
    "high_var_array = np.array([1,100,200,300,4000,5000])\n",
    "low_var_array=([2,4,6,8,0])"
   ]
  },
  {
   "cell_type": "code",
   "execution_count": 29,
   "id": "c73161f3-e3e7-42e6-8bfa-b3eb09f816ef",
   "metadata": {},
   "outputs": [
    {
     "data": {
      "text/plain": [
       "(np.float64(4296133.472222221), np.float64(8.0))"
      ]
     },
     "execution_count": 29,
     "metadata": {},
     "output_type": "execute_result"
    }
   ],
   "source": [
    "np.var(high_var_array), np.var(low_var_array)"
   ]
  },
  {
   "cell_type": "code",
   "execution_count": 30,
   "id": "12577085-692c-4224-9c81-eef32f4667ea",
   "metadata": {},
   "outputs": [
    {
     "data": {
      "text/plain": [
       "(np.float64(2072.711623024829), np.float64(2.8284271247461903))"
      ]
     },
     "execution_count": 30,
     "metadata": {},
     "output_type": "execute_result"
    }
   ],
   "source": [
    "np.std(high_var_array),np.std(low_var_array)"
   ]
  },
  {
   "cell_type": "code",
   "execution_count": 31,
   "id": "de238e68-658d-49b6-8c1d-e636144acac5",
   "metadata": {},
   "outputs": [
    {
     "data": {
      "image/png": "[encoded data removed]",
      "text/plain": [
       "<Figure size 640x480 with 1 Axes>"
      ]
     },
     "metadata": {},
     "output_type": "display_data"
    },
    {
     "data": {
      "image/png": "[encoded data removed]",
      "text/plain": [
       "<Figure size 640x480 with 1 Axes>"
      ]
     },
     "metadata": {},
     "output_type": "display_data"
    }
   ],
   "source": [
    "import matplotlib.pyplot as plt\n",
    "plt.hist(high_var_array)\n",
    "plt.show()\n",
    "plt.hist(low_var_array)\n",
    "plt.show()"
   ]
  },
  {
   "cell_type": "markdown",
   "id": "ae36b7c1-ab3c-47d6-8e22-d645fdbd3737",
   "metadata": {},
   "source": [
    "## Reshaping and Transposing"
   ]
  },
  {
   "cell_type": "code",
   "execution_count": 41,
   "id": "15248260-f04d-4635-80e9-4a85e96eb090",
   "metadata": {},
   "outputs": [
    {
     "data": {
      "text/plain": [
       "(2, 3)"
      ]
     },
     "execution_count": 41,
     "metadata": {},
     "output_type": "execute_result"
    }
   ],
   "source": [
    "ar2.shape"
   ]
  },
  {
   "cell_type": "code",
   "execution_count": 42,
   "id": "3049a21b-98ac-4207-938d-ce04e013edaa",
   "metadata": {},
   "outputs": [
    {
     "data": {
      "text/plain": [
       "array([[1. , 2. , 3.3],\n",
       "       [4. , 5. , 6.5]])"
      ]
     },
     "execution_count": 42,
     "metadata": {},
     "output_type": "execute_result"
    }
   ],
   "source": [
    "\n",
    "ar2"
   ]
  },
  {
   "cell_type": "code",
   "execution_count": 38,
   "id": "2573e328-93c0-4db6-9399-8215b0e3fe82",
   "metadata": {},
   "outputs": [
    {
     "data": {
      "text/plain": [
       "(3, 4)"
      ]
     },
     "execution_count": 38,
     "metadata": {},
     "output_type": "execute_result"
    }
   ],
   "source": [
    "a3.shape"
   ]
  },
  {
   "cell_type": "code",
   "execution_count": 43,
   "id": "073c48d1-1201-469f-a03a-6336bdbd9a74",
   "metadata": {},
   "outputs": [
    {
     "data": {
      "text/plain": [
       "array([[[8, 8, 6],\n",
       "        [2, 8, 7],\n",
       "        [2, 1, 5]],\n",
       "\n",
       "       [[4, 4, 5],\n",
       "        [7, 3, 6],\n",
       "        [4, 3, 7]]])"
      ]
     },
     "execution_count": 43,
     "metadata": {},
     "output_type": "execute_result"
    }
   ],
   "source": [
    "ar3"
   ]
  },
  {
   "cell_type": "code",
   "execution_count": 45,
   "id": "64336ae2-29df-4de7-95a0-b3c20fc7240f",
   "metadata": {},
   "outputs": [
    {
     "data": {
      "text/plain": [
       "(2, 3, 3)"
      ]
     },
     "execution_count": 45,
     "metadata": {},
     "output_type": "execute_result"
    }
   ],
   "source": [
    "ar3.shape"
   ]
  },
  {
   "cell_type": "code",
   "execution_count": 55,
   "id": "e87fb62d-429d-435b-8fab-aff11ba35fdc",
   "metadata": {},
   "outputs": [
    {
     "data": {
      "text/plain": [
       "array([[[ 8. ,  8. ,  6. ],\n",
       "        [ 4. , 16. , 14. ],\n",
       "        [ 6.6,  3.3, 16.5]],\n",
       "\n",
       "       [[16. , 16. , 20. ],\n",
       "        [35. , 15. , 30. ],\n",
       "        [26. , 19.5, 45.5]]])"
      ]
     },
     "execution_count": 55,
     "metadata": {},
     "output_type": "execute_result"
    }
   ],
   "source": [
    "ar3*ar2.reshape(2,3,1)"
   ]
  },
  {
   "cell_type": "code",
   "execution_count": 58,
   "id": "f1df63ba-0191-43ba-9dc1-0ac23b5a3107",
   "metadata": {},
   "outputs": [
    {
     "data": {
      "text/plain": [
       "array([[1. , 4. ],\n",
       "       [2. , 5. ],\n",
       "       [3.3, 6.5]])"
      ]
     },
     "execution_count": 58,
     "metadata": {},
     "output_type": "execute_result"
    }
   ],
   "source": [
    "ar2.T"
   ]
  },
  {
   "cell_type": "code",
   "execution_count": 59,
   "id": "9fbf3021-0653-47cf-ac8e-a6d4c3338a6f",
   "metadata": {},
   "outputs": [
    {
     "data": {
      "text/plain": [
       "array([[1. , 2. , 3.3],\n",
       "       [4. , 5. , 6.5]])"
      ]
     },
     "execution_count": 59,
     "metadata": {},
     "output_type": "execute_result"
    }
   ],
   "source": [
    "ar2"
   ]
  },
  {
   "cell_type": "markdown",
   "id": "ea3bf039-9f77-4406-be50-05d582d03d80",
   "metadata": {},
   "source": [
    " Transpose  switches the axis"
   ]
  },
  {
   "cell_type": "markdown",
   "id": "58194760-07a6-4ad4-baa4-1600ccdc95dc",
   "metadata": {},
   "source": [
    "reshape creates your own custom shapes"
   ]
  },
  {
   "cell_type": "markdown",
   "id": "6e0b0493-c25f-4841-a414-3b4bfd5705ca",
   "metadata": {},
   "source": [
    "## Dot product "
   ]
  },
  {
   "cell_type": "code",
   "execution_count": 71,
   "id": "5ee3a778-886f-492e-8cd3-1f02fe72b496",
   "metadata": {},
   "outputs": [],
   "source": [
    " np.random.seed(0)\n",
    "\n",
    "mat1 = np.random.randint(10, size=(5,3))\n",
    "mat2 = np.random.randint(10, size =(5,3))"
   ]
  },
  {
   "cell_type": "code",
   "execution_count": 72,
   "id": "537e3212-23b9-4484-be06-abb21a027ce0",
   "metadata": {},
   "outputs": [
    {
     "data": {
      "text/plain": [
       "array([[5, 0, 3],\n",
       "       [3, 7, 9],\n",
       "       [3, 5, 2],\n",
       "       [4, 7, 6],\n",
       "       [8, 8, 1]])"
      ]
     },
     "execution_count": 72,
     "metadata": {},
     "output_type": "execute_result"
    }
   ],
   "source": [
    "mat1"
   ]
  },
  {
   "cell_type": "code",
   "execution_count": 84,
   "id": "09665e5d-8fd6-4793-b036-b9afeb24c2bd",
   "metadata": {},
   "outputs": [
    {
     "data": {
      "text/plain": [
       "array([[6, 7, 7],\n",
       "       [8, 1, 5],\n",
       "       [9, 8, 9],\n",
       "       [4, 3, 0],\n",
       "       [3, 5, 0]])"
      ]
     },
     "execution_count": 84,
     "metadata": {},
     "output_type": "execute_result"
    }
   ],
   "source": [
    "mat2"
   ]
  },
  {
   "cell_type": "code",
   "execution_count": 75,
   "id": "3f829ae3-2e40-423c-9f03-9ba0c2945649",
   "metadata": {},
   "outputs": [
    {
     "data": {
      "text/plain": [
       "array([[30,  0, 21],\n",
       "       [24,  7, 45],\n",
       "       [27, 40, 18],\n",
       "       [16, 21,  0],\n",
       "       [24, 40,  0]])"
      ]
     },
     "execution_count": 75,
     "metadata": {},
     "output_type": "execute_result"
    }
   ],
   "source": [
    "#Element wise multiplication (hadamard product)\n",
    "mat1 *mat2"
   ]
  },
  {
   "cell_type": "code",
   "execution_count": 90,
   "id": "e972858e-4725-4547-b307-f90cfff7391b",
   "metadata": {},
   "outputs": [
    {
     "data": {
      "text/plain": [
       "array([[ 51,  55,  72,  20,  15],\n",
       "       [130,  76, 164,  33,  44],\n",
       "       [ 67,  39,  85,  27,  34],\n",
       "       [115,  69, 146,  37,  47],\n",
       "       [111,  77, 145,  56,  64]])"
      ]
     },
     "execution_count": 90,
     "metadata": {},
     "output_type": "execute_result"
    }
   ],
   "source": [
    "#Dot product\n",
    "np.dot(mat1 , mat2.T)"
   ]
  },
  {
   "cell_type": "markdown",
   "id": "13988edf-0ca0-4bb8-99bc-7ea3c3e4ec53",
   "metadata": {},
   "source": [
    "## Dot product example (nut butter sales"
   ]
  },
  {
   "cell_type": "code",
   "execution_count": 91,
   "id": "67825889-a51a-4a8d-9dda-2d316ec5d8d3",
   "metadata": {},
   "outputs": [],
   "source": [
    "np.random.seed(0)\n",
    "sales_amounts = np.random.randint(20, size=(5,3))\n",
    "price = np.array([10, 8, 12])"
   ]
  },
  {
   "cell_type": "code",
   "execution_count": 93,
   "id": "8099abec-149a-40f0-afef-305a7db6b992",
   "metadata": {},
   "outputs": [
    {
     "data": {
      "text/plain": [
       "array([[12, 15,  0],\n",
       "       [ 3,  3,  7],\n",
       "       [ 9, 19, 18],\n",
       "       [ 4,  6, 12],\n",
       "       [ 1,  6,  7]])"
      ]
     },
     "execution_count": 93,
     "metadata": {},
     "output_type": "execute_result"
    }
   ],
   "source": [
    "sales_amounts"
   ]
  },
  {
   "cell_type": "code",
   "execution_count": 106,
   "id": "754f622a-dd16-4792-8839-9a28d6b33c64",
   "metadata": {},
   "outputs": [],
   "source": [
    "weekly_sales = pd.DataFrame(sales_amounts, \n",
    "                            index =[\"mon\",\"tues\",\"wed\",\"thur\",\"fri\"],\n",
    "                            columns =[\"almond butter\", \"peanut butter\", \"cashew butter\"])"
   ]
  },
  {
   "cell_type": "code",
   "execution_count": 107,
   "id": "97f16beb-77cd-48fc-9c3f-2cccdf59f81a",
   "metadata": {},
   "outputs": [
    {
     "data": {
      "text/html": [
       "<div>\n",
       "<style scoped>\n",
       "    .dataframe tbody tr th:only-of-type {\n",
       "        vertical-align: middle;\n",
       "    }\n",
       "\n",
       "    .dataframe tbody tr th {\n",
       "        vertical-align: top;\n",
       "    }\n",
       "\n",
       "    .dataframe thead th {\n",
       "        text-align: right;\n",
       "    }\n",
       "</style>\n",
       "<table border=\"1\" class=\"dataframe\">\n",
       "  <thead>\n",
       "    <tr style=\"text-align: right;\">\n",
       "      <th></th>\n",
       "      <th>almond butter</th>\n",
       "      <th>peanut butter</th>\n",
       "      <th>cashew butter</th>\n",
       "    </tr>\n",
       "  </thead>\n",
       "  <tbody>\n",
       "    <tr>\n",
       "      <th>mon</th>\n",
       "      <td>12</td>\n",
       "      <td>15</td>\n",
       "      <td>0</td>\n",
       "    </tr>\n",
       "    <tr>\n",
       "      <th>tues</th>\n",
       "      <td>3</td>\n",
       "      <td>3</td>\n",
       "      <td>7</td>\n",
       "    </tr>\n",
       "    <tr>\n",
       "      <th>wed</th>\n",
       "      <td>9</td>\n",
       "      <td>19</td>\n",
       "      <td>18</td>\n",
       "    </tr>\n",
       "    <tr>\n",
       "      <th>thur</th>\n",
       "      <td>4</td>\n",
       "      <td>6</td>\n",
       "      <td>12</td>\n",
       "    </tr>\n",
       "    <tr>\n",
       "      <th>fri</th>\n",
       "      <td>1</td>\n",
       "      <td>6</td>\n",
       "      <td>7</td>\n",
       "    </tr>\n",
       "  </tbody>\n",
       "</table>\n",
       "</div>"
      ],
      "text/plain": [
       "      almond butter  peanut butter  cashew butter\n",
       "mon              12             15              0\n",
       "tues              3              3              7\n",
       "wed               9             19             18\n",
       "thur              4              6             12\n",
       "fri               1              6              7"
      ]
     },
     "execution_count": 107,
     "metadata": {},
     "output_type": "execute_result"
    }
   ],
   "source": [
    "weekly_sales"
   ]
  },
  {
   "cell_type": "code",
   "execution_count": 109,
   "id": "e1d25608-292c-4da3-be59-f56625f9ab5b",
   "metadata": {},
   "outputs": [
    {
     "data": {
      "text/plain": [
       "array([10,  8, 12])"
      ]
     },
     "execution_count": 109,
     "metadata": {},
     "output_type": "execute_result"
    }
   ],
   "source": [
    "price"
   ]
  },
  {
   "cell_type": "code",
   "execution_count": 114,
   "id": "aa7c79f0-2756-4bef-bde5-243cc73f5b15",
   "metadata": {},
   "outputs": [
    {
     "data": {
      "text/html": [
       "<div>\n",
       "<style scoped>\n",
       "    .dataframe tbody tr th:only-of-type {\n",
       "        vertical-align: middle;\n",
       "    }\n",
       "\n",
       "    .dataframe tbody tr th {\n",
       "        vertical-align: top;\n",
       "    }\n",
       "\n",
       "    .dataframe thead th {\n",
       "        text-align: right;\n",
       "    }\n",
       "</style>\n",
       "<table border=\"1\" class=\"dataframe\">\n",
       "  <thead>\n",
       "    <tr style=\"text-align: right;\">\n",
       "      <th></th>\n",
       "      <th>almond butter</th>\n",
       "      <th>peanut butter</th>\n",
       "      <th>cashew butter</th>\n",
       "    </tr>\n",
       "  </thead>\n",
       "  <tbody>\n",
       "    <tr>\n",
       "      <th>price</th>\n",
       "      <td>10</td>\n",
       "      <td>8</td>\n",
       "      <td>12</td>\n",
       "    </tr>\n",
       "  </tbody>\n",
       "</table>\n",
       "</div>"
      ],
      "text/plain": [
       "       almond butter  peanut butter  cashew butter\n",
       "price             10              8             12"
      ]
     },
     "execution_count": 114,
     "metadata": {},
     "output_type": "execute_result"
    }
   ],
   "source": [
    "butter_prices = pd.DataFrame(price.reshape(1,3),\n",
    "                             index=[\"price\"],\n",
    "                             columns=[\"almond butter\", \"peanut butter\", \"cashew butter\"])\n",
    "butter_prices"
   ]
  },
  {
   "cell_type": "code",
   "execution_count": 115,
   "id": "f760fda9-2276-49ab-adee-99ed7e9947b4",
   "metadata": {},
   "outputs": [
    {
     "data": {
      "text/plain": [
       "array([240, 138, 458, 232, 142])"
      ]
     },
     "execution_count": 115,
     "metadata": {},
     "output_type": "execute_result"
    }
   ],
   "source": [
    "np.dot(sales_amounts, price)"
   ]
  },
  {
   "cell_type": "code",
   "execution_count": 130,
   "id": "642dd45b-0a01-461b-bd70-e4961b05c0ce",
   "metadata": {},
   "outputs": [],
   "source": [
    "total = np.dot(sales_amounts, price)"
   ]
  },
  {
   "cell_type": "code",
   "execution_count": 131,
   "id": "b23edc06-8e49-40f0-97cc-773b884ce9e6",
   "metadata": {},
   "outputs": [
    {
     "data": {
      "text/plain": [
       "array([240, 138, 458, 232, 142])"
      ]
     },
     "execution_count": 131,
     "metadata": {},
     "output_type": "execute_result"
    }
   ],
   "source": [
    "total"
   ]
  },
  {
   "cell_type": "code",
   "execution_count": 134,
   "id": "b9bfccb9-009c-4672-a597-c7757c1030a2",
   "metadata": {},
   "outputs": [
    {
     "data": {
      "text/html": [
       "<div>\n",
       "<style scoped>\n",
       "    .dataframe tbody tr th:only-of-type {\n",
       "        vertical-align: middle;\n",
       "    }\n",
       "\n",
       "    .dataframe tbody tr th {\n",
       "        vertical-align: top;\n",
       "    }\n",
       "\n",
       "    .dataframe thead th {\n",
       "        text-align: right;\n",
       "    }\n",
       "</style>\n",
       "<table border=\"1\" class=\"dataframe\">\n",
       "  <thead>\n",
       "    <tr style=\"text-align: right;\">\n",
       "      <th></th>\n",
       "      <th>sales</th>\n",
       "    </tr>\n",
       "  </thead>\n",
       "  <tbody>\n",
       "    <tr>\n",
       "      <th>mon</th>\n",
       "      <td>240</td>\n",
       "    </tr>\n",
       "    <tr>\n",
       "      <th>tues</th>\n",
       "      <td>138</td>\n",
       "    </tr>\n",
       "    <tr>\n",
       "      <th>wed</th>\n",
       "      <td>458</td>\n",
       "    </tr>\n",
       "    <tr>\n",
       "      <th>thur</th>\n",
       "      <td>232</td>\n",
       "    </tr>\n",
       "    <tr>\n",
       "      <th>fri</th>\n",
       "      <td>142</td>\n",
       "    </tr>\n",
       "  </tbody>\n",
       "</table>\n",
       "</div>"
      ],
      "text/plain": [
       "      sales\n",
       "mon     240\n",
       "tues    138\n",
       "wed     458\n",
       "thur    232\n",
       "fri     142"
      ]
     },
     "execution_count": 134,
     "metadata": {},
     "output_type": "execute_result"
    }
   ],
   "source": [
    " daily_sales = pd.DataFrame(total,\n",
    "                            index =[\"mon\",\"tues\",\"wed\",\"thur\",\"fri\"],\n",
    "                            columns=[\"sales\"])\n",
    "daily_sales"
   ]
  },
  {
   "cell_type": "code",
   "execution_count": 135,
   "id": "bb24c414-40f0-4389-91d6-df1871f80d43",
   "metadata": {},
   "outputs": [],
   "source": [
    "weekly_sales[\"Total ($)\"]= daily_sales"
   ]
  },
  {
   "cell_type": "code",
   "execution_count": 136,
   "id": "90f5fff8-d3c2-4814-93c7-0d0fd75d6604",
   "metadata": {},
   "outputs": [
    {
     "data": {
      "text/html": [
       "<div>\n",
       "<style scoped>\n",
       "    .dataframe tbody tr th:only-of-type {\n",
       "        vertical-align: middle;\n",
       "    }\n",
       "\n",
       "    .dataframe tbody tr th {\n",
       "        vertical-align: top;\n",
       "    }\n",
       "\n",
       "    .dataframe thead th {\n",
       "        text-align: right;\n",
       "    }\n",
       "</style>\n",
       "<table border=\"1\" class=\"dataframe\">\n",
       "  <thead>\n",
       "    <tr style=\"text-align: right;\">\n",
       "      <th></th>\n",
       "      <th>almond butter</th>\n",
       "      <th>peanut butter</th>\n",
       "      <th>cashew butter</th>\n",
       "      <th>Total ($)</th>\n",
       "    </tr>\n",
       "  </thead>\n",
       "  <tbody>\n",
       "    <tr>\n",
       "      <th>mon</th>\n",
       "      <td>12</td>\n",
       "      <td>15</td>\n",
       "      <td>0</td>\n",
       "      <td>240</td>\n",
       "    </tr>\n",
       "    <tr>\n",
       "      <th>tues</th>\n",
       "      <td>3</td>\n",
       "      <td>3</td>\n",
       "      <td>7</td>\n",
       "      <td>138</td>\n",
       "    </tr>\n",
       "    <tr>\n",
       "      <th>wed</th>\n",
       "      <td>9</td>\n",
       "      <td>19</td>\n",
       "      <td>18</td>\n",
       "      <td>458</td>\n",
       "    </tr>\n",
       "    <tr>\n",
       "      <th>thur</th>\n",
       "      <td>4</td>\n",
       "      <td>6</td>\n",
       "      <td>12</td>\n",
       "      <td>232</td>\n",
       "    </tr>\n",
       "    <tr>\n",
       "      <th>fri</th>\n",
       "      <td>1</td>\n",
       "      <td>6</td>\n",
       "      <td>7</td>\n",
       "      <td>142</td>\n",
       "    </tr>\n",
       "  </tbody>\n",
       "</table>\n",
       "</div>"
      ],
      "text/plain": [
       "      almond butter  peanut butter  cashew butter  Total ($)\n",
       "mon              12             15              0        240\n",
       "tues              3              3              7        138\n",
       "wed               9             19             18        458\n",
       "thur              4              6             12        232\n",
       "fri               1              6              7        142"
      ]
     },
     "execution_count": 136,
     "metadata": {},
     "output_type": "execute_result"
    }
   ],
   "source": [
    "weekly_sales"
   ]
  },
  {
   "cell_type": "code",
   "execution_count": 139,
   "id": "d6a8853b-6292-413a-b14f-8b5e6ca0dd23",
   "metadata": {},
   "outputs": [
    {
     "data": {
      "text/plain": [
       "array([[ 5, 11, 12],\n",
       "       [ 8,  9, 11],\n",
       "       [ 5, 15,  0],\n",
       "       [16,  1, 12],\n",
       "       [ 7, 13,  6]])"
      ]
     },
     "execution_count": 139,
     "metadata": {},
     "output_type": "execute_result"
    }
   ],
   "source": [
    "np.random.seed(1)\n",
    "amount_sales = np.random.randint(20, size=(5,3))\n",
    "amount_sales"
   ]
  },
  {
   "cell_type": "code",
   "execution_count": 140,
   "id": "c8ebb46d-bfff-487f-9b6e-ed03d7b10762",
   "metadata": {},
   "outputs": [
    {
     "data": {
      "text/plain": [
       "array([6, 5, 4])"
      ]
     },
     "execution_count": 140,
     "metadata": {},
     "output_type": "execute_result"
    }
   ],
   "source": [
    "each_price = np.array([6,5,4])\n",
    "each_price"
   ]
  },
  {
   "cell_type": "code",
   "execution_count": 144,
   "id": "6c7fb0c9-4ae6-47c5-a050-c3ad3301856d",
   "metadata": {},
   "outputs": [
    {
     "data": {
      "text/html": [
       "<div>\n",
       "<style scoped>\n",
       "    .dataframe tbody tr th:only-of-type {\n",
       "        vertical-align: middle;\n",
       "    }\n",
       "\n",
       "    .dataframe tbody tr th {\n",
       "        vertical-align: top;\n",
       "    }\n",
       "\n",
       "    .dataframe thead th {\n",
       "        text-align: right;\n",
       "    }\n",
       "</style>\n",
       "<table border=\"1\" class=\"dataframe\">\n",
       "  <thead>\n",
       "    <tr style=\"text-align: right;\">\n",
       "      <th></th>\n",
       "      <th>biscit</th>\n",
       "      <th>juice</th>\n",
       "      <th>lops</th>\n",
       "    </tr>\n",
       "  </thead>\n",
       "  <tbody>\n",
       "    <tr>\n",
       "      <th>mon</th>\n",
       "      <td>5</td>\n",
       "      <td>11</td>\n",
       "      <td>12</td>\n",
       "    </tr>\n",
       "    <tr>\n",
       "      <th>tues</th>\n",
       "      <td>8</td>\n",
       "      <td>9</td>\n",
       "      <td>11</td>\n",
       "    </tr>\n",
       "    <tr>\n",
       "      <th>wed</th>\n",
       "      <td>5</td>\n",
       "      <td>15</td>\n",
       "      <td>0</td>\n",
       "    </tr>\n",
       "    <tr>\n",
       "      <th>thur</th>\n",
       "      <td>16</td>\n",
       "      <td>1</td>\n",
       "      <td>12</td>\n",
       "    </tr>\n",
       "    <tr>\n",
       "      <th>fri</th>\n",
       "      <td>7</td>\n",
       "      <td>13</td>\n",
       "      <td>6</td>\n",
       "    </tr>\n",
       "  </tbody>\n",
       "</table>\n",
       "</div>"
      ],
      "text/plain": [
       "      biscit  juice  lops\n",
       "mon        5     11    12\n",
       "tues       8      9    11\n",
       "wed        5     15     0\n",
       "thur      16      1    12\n",
       "fri        7     13     6"
      ]
     },
     "execution_count": 144,
     "metadata": {},
     "output_type": "execute_result"
    }
   ],
   "source": [
    "## creating table as datafreame\n",
    "sales_weekly = pd.DataFrame(amount_sales,\n",
    "                            index =[\"mon\",\"tues\",\"wed\",\"thur\",\"fri\"],\n",
    "                            columns =[\"biscit\",\"juice\", \"lops\"])\n",
    "sales_weekly"
   ]
  },
  {
   "cell_type": "code",
   "execution_count": 143,
   "id": "e2851bb0-c427-4b7b-948c-870c9d430513",
   "metadata": {},
   "outputs": [
    {
     "data": {
      "text/plain": [
       "array([133, 137, 105, 149, 131])"
      ]
     },
     "execution_count": 143,
     "metadata": {},
     "output_type": "execute_result"
    }
   ],
   "source": [
    "total_price= np.dot(amount_sales, each_price)\n",
    "total_price"
   ]
  },
  {
   "cell_type": "code",
   "execution_count": 149,
   "id": "ddb779f9-1a2c-4638-92dd-1caa5a8058f6",
   "metadata": {},
   "outputs": [
    {
     "data": {
      "text/html": [
       "<div>\n",
       "<style scoped>\n",
       "    .dataframe tbody tr th:only-of-type {\n",
       "        vertical-align: middle;\n",
       "    }\n",
       "\n",
       "    .dataframe tbody tr th {\n",
       "        vertical-align: top;\n",
       "    }\n",
       "\n",
       "    .dataframe thead th {\n",
       "        text-align: right;\n",
       "    }\n",
       "</style>\n",
       "<table border=\"1\" class=\"dataframe\">\n",
       "  <thead>\n",
       "    <tr style=\"text-align: right;\">\n",
       "      <th></th>\n",
       "      <th>saless</th>\n",
       "    </tr>\n",
       "  </thead>\n",
       "  <tbody>\n",
       "    <tr>\n",
       "      <th>mon</th>\n",
       "      <td>133</td>\n",
       "    </tr>\n",
       "    <tr>\n",
       "      <th>tues</th>\n",
       "      <td>137</td>\n",
       "    </tr>\n",
       "    <tr>\n",
       "      <th>wed</th>\n",
       "      <td>105</td>\n",
       "    </tr>\n",
       "    <tr>\n",
       "      <th>thur</th>\n",
       "      <td>149</td>\n",
       "    </tr>\n",
       "    <tr>\n",
       "      <th>fri</th>\n",
       "      <td>131</td>\n",
       "    </tr>\n",
       "  </tbody>\n",
       "</table>\n",
       "</div>"
      ],
      "text/plain": [
       "      saless\n",
       "mon      133\n",
       "tues     137\n",
       "wed      105\n",
       "thur     149\n",
       "fri      131"
      ]
     },
     "execution_count": 149,
     "metadata": {},
     "output_type": "execute_result"
    }
   ],
   "source": [
    "totals = pd.DataFrame(total_price,\n",
    "                      index =[\"mon\",\"tues\",\"wed\",\"thur\",\"fri\"],\n",
    "                      columns =[\"saless\"])\n",
    "totals"
   ]
  },
  {
   "cell_type": "code",
   "execution_count": 151,
   "id": "a45be2b3-2a5b-4c25-ae94-f240eb714fcc",
   "metadata": {},
   "outputs": [],
   "source": [
    "sales_weekly[\"total ($)\"] = totals"
   ]
  },
  {
   "cell_type": "code",
   "execution_count": 152,
   "id": "f5803877-64b5-4c66-b0f4-6098d59603ad",
   "metadata": {},
   "outputs": [
    {
     "data": {
      "text/html": [
       "<div>\n",
       "<style scoped>\n",
       "    .dataframe tbody tr th:only-of-type {\n",
       "        vertical-align: middle;\n",
       "    }\n",
       "\n",
       "    .dataframe tbody tr th {\n",
       "        vertical-align: top;\n",
       "    }\n",
       "\n",
       "    .dataframe thead th {\n",
       "        text-align: right;\n",
       "    }\n",
       "</style>\n",
       "<table border=\"1\" class=\"dataframe\">\n",
       "  <thead>\n",
       "    <tr style=\"text-align: right;\">\n",
       "      <th></th>\n",
       "      <th>biscit</th>\n",
       "      <th>juice</th>\n",
       "      <th>lops</th>\n",
       "      <th>total ($)</th>\n",
       "    </tr>\n",
       "  </thead>\n",
       "  <tbody>\n",
       "    <tr>\n",
       "      <th>mon</th>\n",
       "      <td>5</td>\n",
       "      <td>11</td>\n",
       "      <td>12</td>\n",
       "      <td>133</td>\n",
       "    </tr>\n",
       "    <tr>\n",
       "      <th>tues</th>\n",
       "      <td>8</td>\n",
       "      <td>9</td>\n",
       "      <td>11</td>\n",
       "      <td>137</td>\n",
       "    </tr>\n",
       "    <tr>\n",
       "      <th>wed</th>\n",
       "      <td>5</td>\n",
       "      <td>15</td>\n",
       "      <td>0</td>\n",
       "      <td>105</td>\n",
       "    </tr>\n",
       "    <tr>\n",
       "      <th>thur</th>\n",
       "      <td>16</td>\n",
       "      <td>1</td>\n",
       "      <td>12</td>\n",
       "      <td>149</td>\n",
       "    </tr>\n",
       "    <tr>\n",
       "      <th>fri</th>\n",
       "      <td>7</td>\n",
       "      <td>13</td>\n",
       "      <td>6</td>\n",
       "      <td>131</td>\n",
       "    </tr>\n",
       "  </tbody>\n",
       "</table>\n",
       "</div>"
      ],
      "text/plain": [
       "      biscit  juice  lops  total ($)\n",
       "mon        5     11    12        133\n",
       "tues       8      9    11        137\n",
       "wed        5     15     0        105\n",
       "thur      16      1    12        149\n",
       "fri        7     13     6        131"
      ]
     },
     "execution_count": 152,
     "metadata": {},
     "output_type": "execute_result"
    }
   ],
   "source": [
    "sales_weekly"
   ]
  },
  {
   "cell_type": "markdown",
   "id": "dc7b62dc-7347-4e43-80e3-4278e3aae1f3",
   "metadata": {},
   "source": [
    "## comaprision operators"
   ]
  },
  {
   "cell_type": "code",
   "execution_count": 154,
   "id": "bb2e4f69-c4fd-4ee8-9322-f62614bd96eb",
   "metadata": {},
   "outputs": [
    {
     "data": {
      "text/plain": [
       "array([1, 2, 3])"
      ]
     },
     "execution_count": 154,
     "metadata": {},
     "output_type": "execute_result"
    }
   ],
   "source": [
    "a1"
   ]
  },
  {
   "cell_type": "code",
   "execution_count": 155,
   "id": "7227f9ba-9418-4972-a04c-938047e9959b",
   "metadata": {},
   "outputs": [
    {
     "data": {
      "text/plain": [
       "array([[1. , 2. , 3.3],\n",
       "       [4. , 5. , 6.5]])"
      ]
     },
     "execution_count": 155,
     "metadata": {},
     "output_type": "execute_result"
    }
   ],
   "source": [
    "ar2"
   ]
  },
  {
   "cell_type": "markdown",
   "id": "bf97aaa3-c830-465e-bbfe-a3fc7651c4c5",
   "metadata": {},
   "source": [
    "## 5.sorting array"
   ]
  },
  {
   "cell_type": "code",
   "execution_count": 165,
   "id": "7e44bd06-65dd-40d0-bb67-f647b68da6cb",
   "metadata": {},
   "outputs": [],
   "source": [
    "np.random.seed(0)\n",
    "random_array = np.random.randint(10, size=(3,5))"
   ]
  },
  {
   "cell_type": "code",
   "execution_count": 166,
   "id": "ce778cda-ac80-4c03-910f-894f37097142",
   "metadata": {},
   "outputs": [
    {
     "data": {
      "text/plain": [
       "array([[5, 0, 3, 3, 7],\n",
       "       [9, 3, 5, 2, 4],\n",
       "       [7, 6, 8, 8, 1]])"
      ]
     },
     "execution_count": 166,
     "metadata": {},
     "output_type": "execute_result"
    }
   ],
   "source": [
    "random_array"
   ]
  },
  {
   "cell_type": "code",
   "execution_count": 167,
   "id": "a597602e-c9f7-4204-9d2b-046be148956a",
   "metadata": {},
   "outputs": [
    {
     "data": {
      "text/plain": [
       "array([[0, 3, 3, 5, 7],\n",
       "       [2, 3, 4, 5, 9],\n",
       "       [1, 6, 7, 8, 8]])"
      ]
     },
     "execution_count": 167,
     "metadata": {},
     "output_type": "execute_result"
    }
   ],
   "source": [
    "np.sort(random_array)"
   ]
  },
  {
   "cell_type": "code",
   "execution_count": 168,
   "id": "004663ca-3f71-4ceb-986c-ce8d0c6b66f0",
   "metadata": {},
   "outputs": [
    {
     "data": {
      "text/plain": [
       "array([[1, 2, 3, 0, 4],\n",
       "       [3, 1, 4, 2, 0],\n",
       "       [4, 1, 0, 2, 3]])"
      ]
     },
     "execution_count": 168,
     "metadata": {},
     "output_type": "execute_result"
    }
   ],
   "source": [
    "np.argsort(random_array)"
   ]
  },
  {
   "cell_type": "code",
   "execution_count": 184,
   "id": "da44f78a-bb5b-40a6-8687-039bf94048df",
   "metadata": {},
   "outputs": [
    {
     "data": {
      "text/plain": [
       "array([4, 0, 2])"
      ]
     },
     "execution_count": 184,
     "metadata": {},
     "output_type": "execute_result"
    }
   ],
   "source": [
    "np.argmax(random_array, axis = 1)"
   ]
  },
  {
   "cell_type": "markdown",
   "id": "ef29ff96-433c-4b76-adc7-9d2c3a8f590d",
   "metadata": {},
   "source": [
    "## 6. practical Examples "
   ]
  },
  {
   "cell_type": "code",
   "execution_count": 239,
   "id": "74b9bb57-99cf-487f-ab06-2f47a5c57bef",
   "metadata": {},
   "outputs": [
    {
     "data": {
      "image/png": "[encoded data removed]",
      "text/plain": [
       "<IPython.core.display.Image object>"
      ]
     },
     "metadata": {},
     "output_type": "display_data"
    }
   ],
   "source": [
    "from IPython.display import Image, display\n",
    "\n",
    "# Use absolute path to access the image\n",
    "display(Image(filename=\"/home/alpha/Documents/dog.png\"))\n"
   ]
  },
  {
   "cell_type": "code",
   "execution_count": 240,
   "id": "324f5d2d-5c59-41fd-a66c-9794530e3976",
   "metadata": {},
   "outputs": [],
   "source": [
    "dog = imread('/home/alpha/Documents/dog_converted.png')"
   ]
  },
  {
   "cell_type": "code",
   "execution_count": 210,
   "id": "7679a05a-6488-41a0-a424-e7af618da79f",
   "metadata": {},
   "outputs": [
    {
     "data": {
      "text/plain": [
       "((191, 264, 3), 151272, 3)"
      ]
     },
     "execution_count": 210,
     "metadata": {},
     "output_type": "execute_result"
    }
   ],
   "source": [
    "dog.shape, dog.size, dog.ndim"
   ]
  },
  {
   "cell_type": "code",
   "execution_count": 211,
   "id": "fd75291b-c7c0-44e0-89a1-f8c732015f5b",
   "metadata": {},
   "outputs": [
    {
     "data": {
      "text/plain": [
       "array([[[0.31764707, 0.41568628, 0.19215687],\n",
       "        [0.32941177, 0.42745098, 0.20392157],\n",
       "        [0.3372549 , 0.43529412, 0.21176471],\n",
       "        ...,\n",
       "        [0.34117648, 0.34901962, 0.29411766],\n",
       "        [0.34117648, 0.34509805, 0.2901961 ],\n",
       "        [0.3372549 , 0.34117648, 0.28627452]],\n",
       "\n",
       "       [[0.31764707, 0.41568628, 0.19215687],\n",
       "        [0.33333334, 0.43137255, 0.20784314],\n",
       "        [0.34117648, 0.4392157 , 0.21568628],\n",
       "        ...,\n",
       "        [0.34117648, 0.34901962, 0.29411766],\n",
       "        [0.34117648, 0.34509805, 0.2901961 ],\n",
       "        [0.34117648, 0.34509805, 0.2901961 ]],\n",
       "\n",
       "       [[0.32156864, 0.41960785, 0.20392157],\n",
       "        [0.3372549 , 0.43529412, 0.21960784],\n",
       "        [0.34901962, 0.44705883, 0.23137255],\n",
       "        ...,\n",
       "        [0.34117648, 0.34901962, 0.29411766],\n",
       "        [0.34117648, 0.34509805, 0.2901961 ],\n",
       "        [0.34117648, 0.34509805, 0.2901961 ]],\n",
       "\n",
       "       [[0.3254902 , 0.41960785, 0.21568628],\n",
       "        [0.34509805, 0.4392157 , 0.23529412],\n",
       "        [0.35686275, 0.4509804 , 0.24705882],\n",
       "        ...,\n",
       "        [0.34509805, 0.3529412 , 0.29803923],\n",
       "        [0.34509805, 0.34901962, 0.29411766],\n",
       "        [0.34117648, 0.34509805, 0.2901961 ]],\n",
       "\n",
       "       [[0.32941177, 0.42352942, 0.22745098],\n",
       "        [0.34901962, 0.44313726, 0.24705882],\n",
       "        [0.37254903, 0.45882353, 0.26666668],\n",
       "        ...,\n",
       "        [0.34509805, 0.3529412 , 0.29803923],\n",
       "        [0.34509805, 0.34901962, 0.29411766],\n",
       "        [0.34509805, 0.34901962, 0.29411766]]],\n",
       "      shape=(5, 264, 3), dtype=float32)"
      ]
     },
     "execution_count": 211,
     "metadata": {},
     "output_type": "execute_result"
    }
   ],
   "source": [
    "dog[:5]"
   ]
  },
  {
   "cell_type": "code",
   "execution_count": 233,
   "id": "8972b931-84da-4b2a-8938-061971bb8548",
   "metadata": {},
   "outputs": [
    {
     "data": {
      "image/png": "[encoded data removed]",
      "text/plain": [
       "<IPython.core.display.Image object>"
      ]
     },
     "metadata": {},
     "output_type": "display_data"
    }
   ],
   "source": [
    "display(Image(filename=\"/home/alpha/Documents/car.png\"))"
   ]
  },
  {
   "cell_type": "code",
   "execution_count": 215,
   "id": "b8f39526-7dcb-4ea1-a9e8-02c7cad01c41",
   "metadata": {},
   "outputs": [],
   "source": [
    "car = imread('/home/alpha/Documents/car_converted.png')"
   ]
  },
  {
   "cell_type": "code",
   "execution_count": 217,
   "id": "36f80b25-de5b-48a7-a5f7-b781ccdca0ac",
   "metadata": {},
   "outputs": [
    {
     "data": {
      "text/plain": [
       "(151272, (191, 264, 3), 3)"
      ]
     },
     "execution_count": 217,
     "metadata": {},
     "output_type": "execute_result"
    }
   ],
   "source": [
    "car.size, car.shape, car.ndim"
   ]
  },
  {
   "cell_type": "code",
   "execution_count": 252,
   "id": "a6fc5f46-de45-4596-8889-9ec3b1cdf500",
   "metadata": {},
   "outputs": [
    {
     "data": {
      "text/plain": [
       "array([[[0.31764707, 0.41568628, 0.19215687],\n",
       "        [0.32941177, 0.42745098, 0.20392157],\n",
       "        [0.3372549 , 0.43529412, 0.21176471],\n",
       "        ...,\n",
       "        [0.34117648, 0.34901962, 0.29411766],\n",
       "        [0.34117648, 0.34509805, 0.2901961 ],\n",
       "        [0.3372549 , 0.34117648, 0.28627452]],\n",
       "\n",
       "       [[0.31764707, 0.41568628, 0.19215687],\n",
       "        [0.33333334, 0.43137255, 0.20784314],\n",
       "        [0.34117648, 0.4392157 , 0.21568628],\n",
       "        ...,\n",
       "        [0.34117648, 0.34901962, 0.29411766],\n",
       "        [0.34117648, 0.34509805, 0.2901961 ],\n",
       "        [0.34117648, 0.34509805, 0.2901961 ]],\n",
       "\n",
       "       [[0.32156864, 0.41960785, 0.20392157],\n",
       "        [0.3372549 , 0.43529412, 0.21960784],\n",
       "        [0.34901962, 0.44705883, 0.23137255],\n",
       "        ...,\n",
       "        [0.34117648, 0.34901962, 0.29411766],\n",
       "        [0.34117648, 0.34509805, 0.2901961 ],\n",
       "        [0.34117648, 0.34509805, 0.2901961 ]],\n",
       "\n",
       "       ...,\n",
       "\n",
       "       [[0.7647059 , 0.7058824 , 0.5372549 ],\n",
       "        [0.77254903, 0.7176471 , 0.5411765 ],\n",
       "        [0.78431374, 0.7294118 , 0.54509807],\n",
       "        ...,\n",
       "        [0.61960787, 0.5764706 , 0.33333334],\n",
       "        [0.6627451 , 0.60784316, 0.36862746],\n",
       "        [0.6862745 , 0.6313726 , 0.38431373]],\n",
       "\n",
       "       [[0.7529412 , 0.69411767, 0.53333336],\n",
       "        [0.7607843 , 0.7019608 , 0.53333336],\n",
       "        [0.7764706 , 0.72156864, 0.54509807],\n",
       "        ...,\n",
       "        [0.62352943, 0.58431375, 0.34509805],\n",
       "        [0.6666667 , 0.60784316, 0.3764706 ],\n",
       "        [0.6901961 , 0.63529414, 0.39607844]],\n",
       "\n",
       "       [[0.7529412 , 0.68235296, 0.53333336],\n",
       "        [0.7607843 , 0.6901961 , 0.53333336],\n",
       "        [0.76862746, 0.70980394, 0.5411765 ],\n",
       "        ...,\n",
       "        [0.6313726 , 0.5921569 , 0.36078432],\n",
       "        [0.67058825, 0.6117647 , 0.3882353 ],\n",
       "        [0.6862745 , 0.627451  , 0.39607844]]],\n",
       "      shape=(191, 264, 3), dtype=float32)"
      ]
     },
     "execution_count": 252,
     "metadata": {},
     "output_type": "execute_result"
    }
   ],
   "source": [
    "car[:191]"
   ]
  },
  {
   "cell_type": "code",
   "execution_count": null,
   "id": "9065e4f4-87ce-4da7-aeb7-337beef8f629",
   "metadata": {},
   "outputs": [],
   "source": []
  }
 ],
 "metadata": {
  "kernelspec": {
   "display_name": "Python 3 (ipykernel)",
   "language": "python",
   "name": "python3"
  },
  "language_info": {
   "codemirror_mode": {
    "name": "ipython",
    "version": 3
   },
   "file_extension": ".py",
   "mimetype": "text/x-python",
   "name": "python",
   "nbconvert_exporter": "python",
   "pygments_lexer": "ipython3",
   "version": "3.13.1"
  }
 },
 "nbformat": 4,
 "nbformat_minor": 5
}
