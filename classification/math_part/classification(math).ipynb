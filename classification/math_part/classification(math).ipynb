{
 "cells": [
  {
   "cell_type": "code",
   "execution_count": 3,
   "id": "2786230e",
   "metadata": {},
   "outputs": [],
   "source": [
    "import numpy as np"
   ]
  },
  {
   "cell_type": "code",
   "execution_count": 4,
   "id": "628a9c01",
   "metadata": {},
   "outputs": [],
   "source": [
    "def sigmoid(z):\n",
    "    return 1.0/(1.0 + np.exp(-z))"
   ]
  },
  {
   "cell_type": "code",
   "execution_count": 9,
   "id": "d2ebe988",
   "metadata": {},
   "outputs": [],
   "source": [
    "def calculate_gradient(theta, X, y):\n",
    "    m = y.size #number of instances\n",
    "    return (X.T @(sigmoid(X @ theta) - y)/m)\n"
   ]
  },
  {
   "cell_type": "code",
   "execution_count": 11,
   "id": "ce0d903b",
   "metadata": {},
   "outputs": [],
   "source": [
    "def gradient_descent(X, y, alpha = 0.1, num_iter = 100, tol= 1e-7):\n",
    "    X_b=np.c_[np.ones((X.shape[0], 1)), X]\n",
    "    \n",
    "    theta = np.zeros(X_b.shape[1])\n",
    "\n",
    "    for i in range(num_iter):\n",
    "        grad = calculate_gradient(theta, X_b, y)\n",
    "        theta -= alpha * grad\n",
    "\n",
    "        if np.linalg.norm(grad) < tol:\n",
    "            break\n",
    "    return theta"
   ]
  },
  {
   "cell_type": "code",
   "execution_count": 7,
   "id": "6f2c5018",
   "metadata": {},
   "outputs": [],
   "source": [
    "def predict_probs(X, theta):\n",
    "    x_b = np.c_[np.ones((X.shape[0], 1)), X]\n",
    "    return sigmoid(x_b @ theta)"
   ]
  },
  {
   "cell_type": "code",
   "execution_count": 8,
   "id": "5626b23b",
   "metadata": {},
   "outputs": [],
   "source": [
    "def predict(X, theta, threshold = 0.5):\n",
    "    return(predict_probs(X, theta) >= threshold).astype(int)"
   ]
  },
  {
   "cell_type": "code",
   "execution_count": 12,
   "id": "47039d60",
   "metadata": {},
   "outputs": [
    {
     "name": "stdout",
     "output_type": "stream",
     "text": [
      "[-5.06603603  3.82608391 -1.23995213]\n",
      "[0 0 1]\n",
      "[0.0236639  0.24347439 0.81036862]\n"
     ]
    }
   ],
   "source": [
    "X = np.array([[1, 2],\n",
    "              [2, 3],\n",
    "              [3, 4]])\n",
    "y = np.array([0, 0, 1])\n",
    "\n",
    "theta = gradient_descent(X, y, alpha=0.1, num_iter=1000)\n",
    "print(theta)                  # learned parameters\n",
    "print(predict(X, theta))      # predicted classes\n",
    "print(predict_probs(X, theta))# predicted probabilities\n"
   ]
  },
  {
   "cell_type": "code",
   "execution_count": null,
   "id": "99e837a6",
   "metadata": {},
   "outputs": [],
   "source": []
  }
 ],
 "metadata": {
  "kernelspec": {
   "display_name": "env1",
   "language": "python",
   "name": "python3"
  },
  "language_info": {
   "codemirror_mode": {
    "name": "ipython",
    "version": 3
   },
   "file_extension": ".py",
   "mimetype": "text/x-python",
   "name": "python",
   "nbconvert_exporter": "python",
   "pygments_lexer": "ipython3",
   "version": "3.10.16"
  }
 },
 "nbformat": 4,
 "nbformat_minor": 5
}
